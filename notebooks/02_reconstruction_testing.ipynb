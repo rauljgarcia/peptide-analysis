{
 "cells": [
  {
   "cell_type": "markdown",
   "id": "0",
   "metadata": {},
   "source": [
    "# Peptide Cleavage and Reconstruction Tests\n",
    "\n",
    "This notebook is used to test enzyme cleavage functions (e.g., trypsin and chymotrypsin) \n",
    "and to validate reconstruction logic. These experiments help verify enzyme rule behavior \n",
    "and fragment boundary correctness."
   ]
  },
  {
   "cell_type": "code",
   "execution_count": null,
   "id": "1",
   "metadata": {},
   "outputs": [],
   "source": [
    "# Standard imports\n",
    "import sys\n",
    "import os\n",
    "from importlib import reload\n",
    "import pprint \n",
    "\n",
    "# Add parent directory to path so src can be imported\n",
    "sys.path.append(os.path.abspath(\"..\"))\n",
    "\n",
    "# Project imports\n",
    "from src.enzymes import trypsin_cleave, chymotrypsin_cleave\n",
    "from src.sequence_tools import validate_ordered_fragments, reconstruct_from_ordered\n"
   ]
  },
  {
   "cell_type": "code",
   "execution_count": null,
   "id": "2",
   "metadata": {},
   "outputs": [],
   "source": [
    "# ---------------------------------------------------------------------\n",
    "# Jupyter development helpers\n",
    "# ---------------------------------------------------------------------\n",
    "%load_ext autoreload\n",
    "%autoreload 2\n"
   ]
  },
  {
   "cell_type": "markdown",
   "id": "3",
   "metadata": {},
   "source": [
    "## 1. Cleavage Function Tests\n",
    "\n",
    "This section is to run trypsin and chymotrypsin cleavage on example sequences \n",
    "to verify fragment outputs match expectations."
   ]
  },
  {
   "cell_type": "code",
   "execution_count": null,
   "id": "4",
   "metadata": {},
   "outputs": [],
   "source": [
    "test_seq_trypsin = \"AKRMKYP\"\n",
    "frags_trypsin = trypsin_cleave(test_seq_trypsin)\n",
    "print(f\"Trypsin fragments: {frags_trypsin}\")"
   ]
  },
  {
   "cell_type": "code",
   "execution_count": null,
   "id": "5",
   "metadata": {},
   "outputs": [],
   "source": []
  },
  {
   "cell_type": "markdown",
   "id": "6",
   "metadata": {},
   "source": [
    "## 2. Fragment Validation\n",
    "Check whether generated (or manually provided) fragments are valid according to enzyme cleavage rules."
   ]
  },
  {
   "cell_type": "code",
   "execution_count": null,
   "id": "7",
   "metadata": {},
   "outputs": [],
   "source": [
    "# valid, details = validate_ordered_fragments(\n",
    "#     fragments = ['Ak', 'R', 'mk', 'yP'], # or frags_trypsin if defined\n",
    "#     cut_after={\"R\", \"K\"},\n",
    "#     block_if_next={\"P\"}\n",
    "# )\n",
    "# print(f\"Is valid: {valid}\")\n",
    "# pprint.pprint(details)"
   ]
  },
  {
   "cell_type": "code",
   "execution_count": null,
   "id": "8",
   "metadata": {},
   "outputs": [],
   "source": [
    "fragments = ['Ak', 'R', 'Xk', 'yP'] # or frags_trypsin if defined))"
   ]
  },
  {
   "cell_type": "code",
   "execution_count": null,
   "id": "9",
   "metadata": {},
   "outputs": [],
   "source": [
    "valid, details = validate_ordered_fragments(fragments)\n",
    "print(f\"Is valid: {valid}\")\n",
    "pprint.pprint(details)"
   ]
  },
  {
   "cell_type": "code",
   "execution_count": null,
   "id": "10",
   "metadata": {},
   "outputs": [],
   "source": []
  },
  {
   "cell_type": "code",
   "execution_count": null,
   "id": "11",
   "metadata": {},
   "outputs": [],
   "source": [
    "VALID_AMINO_ACIDS = {\n",
    "    \"A\",\n",
    "    \"C\",\n",
    "    \"D\",\n",
    "    \"E\",\n",
    "    \"F\",\n",
    "    \"G\",\n",
    "    \"H\",\n",
    "    \"I\",\n",
    "    \"K\",\n",
    "    \"L\",\n",
    "    \"M\",\n",
    "    \"N\",\n",
    "    \"P\",\n",
    "    \"Q\",\n",
    "    \"R\",\n",
    "    \"S\",\n",
    "    \"T\",\n",
    "    \"V\",\n",
    "    \"W\",\n",
    "    \"Y\",\n",
    "}"
   ]
  },
  {
   "cell_type": "code",
   "execution_count": null,
   "id": "12",
   "metadata": {},
   "outputs": [],
   "source": [
    "def _validate_residues(fragments: list[str]):\n",
    "\n",
    "    if not fragments:\n",
    "        # The list is empty\n",
    "        return False, {\"error\": \"empty_fragment_list\"}\n",
    "    \n",
    "    normalized = []\n",
    "    \n",
    "    for frag_index, raw_frag in enumerate(fragments):\n",
    "        frag = raw_frag.strip().upper()\n",
    "        if frag == \"\":\n",
    "            # The fragment is empty\n",
    "            return False, {\n",
    "                \"error\": \"empty fragment\",\n",
    "                \"fragment_index\": frag_index,\n",
    "            }\n",
    "\n",
    "        for char_index, aa in enumerate(frag):\n",
    "            if aa not in VALID_AMINO_ACIDS:\n",
    "                return False, {\n",
    "                    \"error\": \"invalid_residue\",\n",
    "                    \"residue_index\": char_index,\n",
    "                    \"residue\": aa,\n",
    "                    \"fragment\": frag\n",
    "                }\n",
    "        normalized.append(frag)\n",
    "    \n",
    "    return True, {\"normalized\": normalized, \"total_fragments\": len(normalized)}\n",
    "\n"
   ]
  },
  {
   "cell_type": "code",
   "execution_count": null,
   "id": "13",
   "metadata": {},
   "outputs": [],
   "source": [
    "#testing residues and edge cases\n",
    "\n",
    "fragments = []\n",
    "print(_validate_residues(fragments))\n",
    "\n",
    "fragments2 = ['aK', '', 'MXk', 'Yp']\n",
    "print(_validate_residues(fragments2))\n",
    "\n",
    "fragments3 = ['aK', 'R', 'MXk', 'Yp']\n",
    "print(_validate_residues(fragments3))\n",
    "\n",
    "fragments4 = ['aK', 'R', 'Mk', 'Yp']\n",
    "\n",
    "print(_validate_residues(fragments4))"
   ]
  },
  {
   "cell_type": "code",
   "execution_count": null,
   "id": "14",
   "metadata": {},
   "outputs": [],
   "source": []
  },
  {
   "cell_type": "code",
   "execution_count": null,
   "id": "15",
   "metadata": {},
   "outputs": [],
   "source": [
    "# work on: valid_set: set[str]\n",
    "#     if check_position == \"start\":\n",
    "#             # Check that no fragment begins with the block if next amino acid\n",
    "#             for i, frag in enumerate(fragments[1:]):\n",
    "#                 if frag[0] not in VALID_AMINO_ACIDS:\n",
    "#                     return False, {\n",
    "#                         \"error\": \"invalid_character\",\n",
    "#                         \"frag_index\": i + 1,\n",
    "#                         \"residue\": frag[0],\n",
    "#                         \"fragment\": frag,\n",
    "#                     }\n",
    "\n",
    "#         if check_position == \"end\":\n",
    "#             pass\n",
    "\n",
    "#         return True"
   ]
  },
  {
   "cell_type": "code",
   "execution_count": null,
   "id": "16",
   "metadata": {},
   "outputs": [],
   "source": [
    "# # Check that each fragment was cutoff after the appropriate amino acid\n",
    "#     for i, frag in enumerate(fragments[:-1]):\n",
    "#         if frag[-1] not in cut_after:\n",
    "#             return False, {\n",
    "#                 \"error\": \"invalid_cutoff\",\n",
    "#                 \"frag_index\": i,\n",
    "#                 \"residue\": frag[-1],\n",
    "#                 \"fragment\": frag,\n",
    "#             }\n",
    "#     # Check that no fragment begins with the block if next amino acid\n",
    "#     for i, frag in enumerate(fragments[1:]):\n",
    "#         if frag[0] in block_if_next:\n",
    "#             return False, {\n",
    "#                 \"error\": \"blocked_by_next\",\n",
    "#                 \"frag_index\": i + 1,\n",
    "#                 \"residue\": frag[0],\n",
    "#                 \"fragment\": frag,\n",
    "#             }\n",
    "\n",
    "#     return True, {\n",
    "#         \"errors\": [],\n",
    "#         \"total_fragments\": len(fragments),\n",
    "#         \"checked_boundaries\": len(fragments) - 1,\n",
    "#     }"
   ]
  },
  {
   "cell_type": "code",
   "execution_count": null,
   "id": "17",
   "metadata": {},
   "outputs": [],
   "source": []
  }
 ],
 "metadata": {
  "kernelspec": {
   "display_name": "Python 3 (ipykernel)",
   "language": "python",
   "name": "python3"
  },
  "language_info": {
   "codemirror_mode": {
    "name": "ipython",
    "version": 3
   },
   "file_extension": ".py",
   "mimetype": "text/x-python",
   "name": "python",
   "nbconvert_exporter": "python",
   "pygments_lexer": "ipython3",
   "version": "3.9.13"
  }
 },
 "nbformat": 4,
 "nbformat_minor": 5
}
