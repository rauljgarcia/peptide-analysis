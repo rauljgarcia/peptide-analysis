{
 "cells": [
  {
   "cell_type": "markdown",
   "id": "0",
   "metadata": {},
   "source": [
    "# Peptide Cleavage and Reconstruction Tests\n",
    "\n",
    "This notebook is used to test enzyme cleavage functions (e.g., trypsin and chymotrypsin) \n",
    "and to validate reconstruction logic. These experiments help verify enzyme rule behavior \n",
    "and fragment boundary correctness."
   ]
  },
  {
   "cell_type": "code",
   "execution_count": null,
   "id": "1",
   "metadata": {},
   "outputs": [],
   "source": [
    "# Standard imports\n",
    "import sys\n",
    "import os\n",
    "from importlib import reload\n",
    "import pprint \n",
    "\n",
    "# Add parent directory to path so src can be imported\n",
    "sys.path.append(os.path.abspath(\"..\"))\n",
    "\n",
    "# Project imports\n",
    "from src.enzymes import trypsin_cleave, chymotrypsin_cleave\n",
    "from src.sequence_tools import validate_ordered_fragments, reconstruct_from_ordered\n"
   ]
  },
  {
   "cell_type": "code",
   "execution_count": null,
   "id": "2",
   "metadata": {},
   "outputs": [],
   "source": [
    "# ---------------------------------------------------------------------\n",
    "# Jupyter development helpers\n",
    "# ---------------------------------------------------------------------\n",
    "%load_ext autoreload\n",
    "%autoreload 2\n"
   ]
  },
  {
   "cell_type": "markdown",
   "id": "3",
   "metadata": {},
   "source": [
    "## 1. Cleavage Function Tests\n",
    "\n",
    "This section is to run trypsin and chymotrypsin cleavage on example sequences \n",
    "to verify fragment outputs match expectations."
   ]
  },
  {
   "cell_type": "code",
   "execution_count": null,
   "id": "4",
   "metadata": {},
   "outputs": [],
   "source": [
    "test_seq_trypsin = \"AKRMKYP\"\n",
    "frags_trypsin = trypsin_cleave(test_seq_trypsin)\n",
    "print(f\"Trypsin fragments: {frags_trypsin}\")"
   ]
  },
  {
   "cell_type": "code",
   "execution_count": null,
   "id": "5",
   "metadata": {},
   "outputs": [],
   "source": []
  },
  {
   "cell_type": "markdown",
   "id": "6",
   "metadata": {},
   "source": [
    "## 2. Fragment Validation\n",
    "Check whether generated (or manually provided) fragments are valid according to enzyme cleavage rules."
   ]
  },
  {
   "cell_type": "code",
   "execution_count": null,
   "id": "7",
   "metadata": {},
   "outputs": [],
   "source": [
    "valid, details = validate_ordered_fragments(\n",
    "    fragments = ['Ak', 'R', 'mk', 'yP'], # or frags_trypsin if defined\n",
    "    cut_after={\"R\", \"K\"},\n",
    "    block_if_next={\"P\"}\n",
    ")\n",
    "print(f\"Is valid: {valid}\")\n",
    "pprint.pprint(details)"
   ]
  },
  {
   "cell_type": "code",
   "execution_count": null,
   "id": "8",
   "metadata": {},
   "outputs": [],
   "source": []
  }
 ],
 "metadata": {
  "kernelspec": {
   "display_name": "Python 3 (ipykernel)",
   "language": "python",
   "name": "python3"
  },
  "language_info": {
   "codemirror_mode": {
    "name": "ipython",
    "version": 3
   },
   "file_extension": ".py",
   "mimetype": "text/x-python",
   "name": "python",
   "nbconvert_exporter": "python",
   "pygments_lexer": "ipython3",
   "version": "3.9.13"
  }
 },
 "nbformat": 4,
 "nbformat_minor": 5
}
