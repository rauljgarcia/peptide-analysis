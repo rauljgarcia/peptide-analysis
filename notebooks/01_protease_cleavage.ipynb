{
 "cells": [
  {
   "cell_type": "markdown",
   "id": "0",
   "metadata": {},
   "source": [
    "# Protease Cleavage Analysis\n",
    "This notebook demonstrates the use of `cleave`, `trypsin_cleave` and `chymotrypsin_cleave` from `src/enzymes.py`."
   ]
  },
  {
   "cell_type": "code",
   "execution_count": null,
   "id": "1",
   "metadata": {},
   "outputs": [],
   "source": [
    "import sys\n",
    "import os\n",
    "sys.path.append(os.path.abspath(\"..\"))\n",
    "from src.enzymes import trypsin_cleave, chymotrypsin_cleave"
   ]
  },
  {
   "cell_type": "markdown",
   "id": "2",
   "metadata": {},
   "source": [
    "## Cleavage rules\n",
    "\n",
    "Trypsin cleaves peptide sequences on the C-terminal side of **K** (Lysine) \n",
    "or **R** (Arginine), except when the next residue is **P** (Proline).  \n",
    "The function `trypsin_cleave` takes a peptide sequence as input and returns a list of peptide fragments produced after cleavage.\n",
    "\n",
    "Chymotrypsin cleaves peptide sequences on the C-terminal side of any of the following residues:  \n",
    "- **Y** (Tyrosine)  \n",
    "- **W** (Tryptophan)   \n",
    "- **F** (Phenylalanine)  \n",
    "- **L** (Leucine)\n",
    "- **M** (Methionine)\n",
    "&nbsp;\n",
    "\n",
    "except when the next residue is **P** (Proline).  \n",
    "The function `chymotrypsin_cleave` takes a peptide sequence as input and returns a list of peptide fragments produced after cleavage."
   ]
  },
  {
   "cell_type": "code",
   "execution_count": null,
   "id": "3",
   "metadata": {},
   "outputs": [],
   "source": [
    "def main():\n",
    "    print(trypsin_cleave(\"KMKAFLRGYV\"))      # Expect ['K', 'MK', 'AFLR', 'GYV']\n",
    "    print(chymotrypsin_cleave(\"AFYWLPGA\"))   # Expect ['AF', 'Y', 'W', 'LPGA']\n",
    "    print(chymotrypsin_cleave(\"AFYMWLGA\"))  # Expect ['AF', 'Y', 'M', 'W', 'L', 'GA']\n",
    "    print(chymotrypsin_cleave(\"YWFPYWPGA\"))  # Expect ['Y', 'WFPYWPGA']\n",
    "if __name__ == \"__main__\":\n",
    "    main()"
   ]
  }
 ],
 "metadata": {
  "kernelspec": {
   "display_name": "Python [conda env:anaconda3] *",
   "language": "python",
   "name": "conda-env-anaconda3-py"
  },
  "language_info": {
   "codemirror_mode": {
    "name": "ipython",
    "version": 3
   },
   "file_extension": ".py",
   "mimetype": "text/x-python",
   "name": "python",
   "nbconvert_exporter": "python",
   "pygments_lexer": "ipython3",
   "version": "3.9.19"
  }
 },
 "nbformat": 4,
 "nbformat_minor": 5
}
