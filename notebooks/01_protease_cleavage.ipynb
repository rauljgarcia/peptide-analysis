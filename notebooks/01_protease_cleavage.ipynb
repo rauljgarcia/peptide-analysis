{
 "cells": [
  {
   "cell_type": "markdown",
   "id": "0",
   "metadata": {},
   "source": [
    "# Protease Cleavage Analysis\n",
    "This notebook demonstrates the use of `trypsin_cleave` from `src/enzymes.py`."
   ]
  },
  {
   "cell_type": "code",
   "execution_count": null,
   "id": "1",
   "metadata": {},
   "outputs": [],
   "source": [
    "import sys\n",
    "sys.path.append(\"\")\n",
    "from enzymes import trypsin_cleave"
   ]
  },
  {
   "cell_type": "markdown",
   "id": "2",
   "metadata": {},
   "source": [
    "## Trypsin cleavage rules\n",
    "\n",
    "Trypsin cleaves peptide sequences on the C-terminal side of **K** (Lysine) \n",
    "or **R** (Arginine), except when the next residue is **P** (Proline).  \n",
    "The function `trypsin_cleave` takes a peptide string and returns a list \n",
    "of fragments after cleavage."
   ]
  },
  {
   "cell_type": "code",
   "execution_count": null,
   "id": "3",
   "metadata": {},
   "outputs": [],
   "source": [
    "def main():\n",
    "    print(trypsin_cleave(\"KMKAFLRGYV\"))\n",
    "if __name__ == \"__main__\":\n",
    "    main()"
   ]
  },
  {
   "cell_type": "markdown",
   "id": "4",
   "metadata": {},
   "source": [
    "The sequence `\"KMKAFLRGYV\"` is cleaved into:\n",
    "- `K`\n",
    "- `MK`\n",
    "- `AFLR`\n",
    "- `GYV`"
   ]
  },
  {
   "cell_type": "code",
   "execution_count": null,
   "id": "5",
   "metadata": {},
   "outputs": [],
   "source": []
  }
 ],
 "metadata": {
  "kernelspec": {
   "display_name": "Python [conda env:anaconda3] *",
   "language": "python",
   "name": "conda-env-anaconda3-py"
  },
  "language_info": {
   "codemirror_mode": {
    "name": "ipython",
    "version": 3
   },
   "file_extension": ".py",
   "mimetype": "text/x-python",
   "name": "python",
   "nbconvert_exporter": "python",
   "pygments_lexer": "ipython3",
   "version": "3.9.19"
  }
 },
 "nbformat": 4,
 "nbformat_minor": 5
}
