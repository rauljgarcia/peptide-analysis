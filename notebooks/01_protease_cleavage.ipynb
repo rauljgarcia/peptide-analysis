{
 "cells": [
  {
   "cell_type": "code",
   "execution_count": null,
   "id": "0",
   "metadata": {},
   "outputs": [],
   "source": [
    "def trypsin_cleave(ply_pep):\n",
    "    ply_pep = ply_pep.upper()\n",
    "    segs = []\n",
    "    start = 0\n",
    "    for i in range(len(ply_pep)):\n",
    "        if (ply_pep[i] == \"R\" or ply_pep[i] == \"K\") and (i+1 == len(ply_pep) or ply_pep[i+1] != \"P\"):\n",
    "            segs.append(ply_pep[start:i+1])\n",
    "            start = i+1\n",
    "    if start < len(ply_pep):\n",
    "        segs.append(ply_pep[start:])\n",
    "    return segs\n",
    "\n",
    "def main():\n",
    "    print(trypsin_cleave(\"KMKAFLRGYV\"))\n",
    "if __name__ == \"__main__\":\n",
    "    main()"
   ]
  },
  {
   "cell_type": "code",
   "execution_count": null,
   "id": "1",
   "metadata": {},
   "outputs": [],
   "source": [
    "git --version"
   ]
  },
  {
   "cell_type": "code",
   "execution_count": null,
   "id": "2",
   "metadata": {},
   "outputs": [],
   "source": []
  },
  {
   "cell_type": "code",
   "execution_count": null,
   "id": "3",
   "metadata": {},
   "outputs": [],
   "source": [
    "pwd"
   ]
  },
  {
   "cell_type": "code",
   "execution_count": null,
   "id": "4",
   "metadata": {},
   "outputs": [],
   "source": []
  }
 ],
 "metadata": {
  "kernelspec": {
   "display_name": "Python [conda env:anaconda3] *",
   "language": "python",
   "name": "conda-env-anaconda3-py"
  },
  "language_info": {
   "codemirror_mode": {
    "name": "ipython",
    "version": 3
   },
   "file_extension": ".py",
   "mimetype": "text/x-python",
   "name": "python",
   "nbconvert_exporter": "python",
   "pygments_lexer": "ipython3",
   "version": "3.9.19"
  }
 },
 "nbformat": 4,
 "nbformat_minor": 5
}
